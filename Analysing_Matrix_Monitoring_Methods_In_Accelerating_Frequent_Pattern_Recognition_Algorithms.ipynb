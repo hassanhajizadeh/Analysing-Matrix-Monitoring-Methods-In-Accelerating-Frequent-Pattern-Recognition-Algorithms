{
  "cells": [
    {
      "cell_type": "markdown",
      "metadata": {
        "id": "view-in-github",
        "colab_type": "text"
      },
      "source": [
        "<a href=\"https://colab.research.google.com/github/hassanhajizadeh/Analysing-Matrix-Monitoring-Methods-In-Accelerating-Frequent-Pattern-Recognition-Algorithms/blob/main/Analysing_Matrix_Monitoring_Methods_In_Accelerating_Frequent_Pattern_Recognition_Algorithms.ipynb\" target=\"_parent\"><img src=\"https://colab.research.google.com/assets/colab-badge.svg\" alt=\"Open In Colab\"/></a>"
      ]
    },
    {
      "cell_type": "markdown",
      "metadata": {
        "id": "2p8RrA13n0Rf"
      },
      "source": [
        "# **Report 1: Analysing Matrix Monitoring Methods In Accelerating Frequent Pattern Recognition Algorithms**"
      ]
    },
    {
      "cell_type": "markdown",
      "metadata": {
        "id": "H5n5KOKMpiOF"
      },
      "source": [
        "### **Professor:** Dr. Ghatee"
      ]
    },
    {
      "cell_type": "markdown",
      "metadata": {
        "id": "DBWP63D2p-bb"
      },
      "source": [
        "### **Head TA:** Behnam Yousefimehr"
      ]
    },
    {
      "cell_type": "markdown",
      "metadata": {
        "id": "GcJ_h5rzoPhv"
      },
      "source": [
        "### **Author:** Hassan Hajizadeh"
      ]
    },
    {
      "cell_type": "markdown",
      "metadata": {
        "id": "t-FY6IqLqtod"
      },
      "source": [
        "### **Step 1: Loading And Preprocessing The Data From UCI Website(https://archive.ics.uci.edu/dataset/352/online+retail)**"
      ]
    },
    {
      "cell_type": "markdown",
      "source": [
        "#### **Installing ucimlrepo library for using USI Datasets**"
      ],
      "metadata": {
        "id": "fNvRj4d9a5Zb"
      }
    },
    {
      "cell_type": "code",
      "execution_count": 1,
      "metadata": {
        "colab": {
          "base_uri": "https://localhost:8080/"
        },
        "id": "UG2ujrgpl6Fe",
        "outputId": "9f15b14b-254c-4ddc-f9d7-00bd4e06c7d7"
      },
      "outputs": [
        {
          "output_type": "stream",
          "name": "stdout",
          "text": [
            "Requirement already satisfied: ucimlrepo in /usr/local/lib/python3.12/dist-packages (0.0.7)\n",
            "Requirement already satisfied: pandas>=1.0.0 in /usr/local/lib/python3.12/dist-packages (from ucimlrepo) (2.2.2)\n",
            "Requirement already satisfied: certifi>=2020.12.5 in /usr/local/lib/python3.12/dist-packages (from ucimlrepo) (2025.10.5)\n",
            "Requirement already satisfied: numpy>=1.26.0 in /usr/local/lib/python3.12/dist-packages (from pandas>=1.0.0->ucimlrepo) (2.0.2)\n",
            "Requirement already satisfied: python-dateutil>=2.8.2 in /usr/local/lib/python3.12/dist-packages (from pandas>=1.0.0->ucimlrepo) (2.9.0.post0)\n",
            "Requirement already satisfied: pytz>=2020.1 in /usr/local/lib/python3.12/dist-packages (from pandas>=1.0.0->ucimlrepo) (2025.2)\n",
            "Requirement already satisfied: tzdata>=2022.7 in /usr/local/lib/python3.12/dist-packages (from pandas>=1.0.0->ucimlrepo) (2025.2)\n",
            "Requirement already satisfied: six>=1.5 in /usr/local/lib/python3.12/dist-packages (from python-dateutil>=2.8.2->pandas>=1.0.0->ucimlrepo) (1.17.0)\n"
          ]
        }
      ],
      "source": [
        "!pip install ucimlrepo"
      ]
    },
    {
      "cell_type": "markdown",
      "source": [
        "#### **Storing Dataset features and targets in variables as pandas DataFrames**"
      ],
      "metadata": {
        "id": "2Kan_H8qclDQ"
      }
    },
    {
      "cell_type": "code",
      "execution_count": 2,
      "metadata": {
        "id": "IUOgW0xunjmu"
      },
      "outputs": [],
      "source": [
        "from ucimlrepo import fetch_ucirepo\n",
        "import pandas as pd\n",
        "\n",
        "online_retail = fetch_ucirepo(id=352)\n",
        "\n",
        "features = online_retail.data.features\n",
        "targets = online_retail.data.targets\n"
      ]
    },
    {
      "cell_type": "markdown",
      "source": [
        "#### **Probing The Dataset Metadata**"
      ],
      "metadata": {
        "id": "EzxdH5dnnLTA"
      }
    },
    {
      "cell_type": "code",
      "execution_count": 3,
      "metadata": {
        "colab": {
          "base_uri": "https://localhost:8080/"
        },
        "id": "_mCqS6rXnxOe",
        "outputId": "c56a2f8c-eb81-4182-f8a1-5157ecfac735"
      },
      "outputs": [
        {
          "output_type": "execute_result",
          "data": {
            "text/plain": [
              "{'uci_id': 352,\n",
              " 'name': 'Online Retail',\n",
              " 'repository_url': 'https://archive.ics.uci.edu/dataset/352/online+retail',\n",
              " 'data_url': 'https://archive.ics.uci.edu/static/public/352/data.csv',\n",
              " 'abstract': 'This is a transactional data set which contains all the transactions occurring between 01/12/2010 and 09/12/2011 for a UK-based and registered non-store online retail.',\n",
              " 'area': 'Business',\n",
              " 'tasks': ['Classification', 'Clustering'],\n",
              " 'characteristics': ['Multivariate', 'Sequential', 'Time-Series'],\n",
              " 'num_instances': 541909,\n",
              " 'num_features': 6,\n",
              " 'feature_types': ['Integer', 'Real'],\n",
              " 'demographics': [],\n",
              " 'target_col': None,\n",
              " 'index_col': ['InvoiceNo', 'StockCode'],\n",
              " 'has_missing_values': 'no',\n",
              " 'missing_values_symbol': None,\n",
              " 'year_of_dataset_creation': 2015,\n",
              " 'last_updated': 'Mon Oct 21 2024',\n",
              " 'dataset_doi': '10.24432/C5BW33',\n",
              " 'creators': ['Daqing Chen'],\n",
              " 'intro_paper': {'ID': 361,\n",
              "  'type': 'NATIVE',\n",
              "  'title': 'Data mining for the online retail industry: A case study of RFM model-based customer segmentation using data mining',\n",
              "  'authors': 'Daqing Chen, Sai Laing Sain, Kun Guo',\n",
              "  'venue': 'Journal of Database Marketing and Customer Strategy Management, Vol. 19, No. 3',\n",
              "  'year': 2012,\n",
              "  'journal': None,\n",
              "  'DOI': '10.1057/dbm.2012.17',\n",
              "  'URL': 'https://www.semanticscholar.org/paper/e43a5a90fa33d419df42e485099f8f08badf2149',\n",
              "  'sha': None,\n",
              "  'corpus': None,\n",
              "  'arxiv': None,\n",
              "  'mag': None,\n",
              "  'acl': None,\n",
              "  'pmid': None,\n",
              "  'pmcid': None},\n",
              " 'additional_info': {'summary': 'This is a transactional data set which contains all the transactions occurring between 01/12/2010 and 09/12/2011 for a UK-based and registered non-store online retail.The company mainly sells unique all-occasion gifts. Many customers of the company are wholesalers.',\n",
              "  'purpose': None,\n",
              "  'funded_by': None,\n",
              "  'instances_represent': None,\n",
              "  'recommended_data_splits': None,\n",
              "  'sensitive_data': None,\n",
              "  'preprocessing_description': None,\n",
              "  'variable_info': \"InvoiceNo: Invoice number. Nominal, a 6-digit integral number uniquely assigned to each transaction. If this code starts with letter 'c', it indicates a cancellation. \\nStockCode: Product (item) code. Nominal, a 5-digit integral number uniquely assigned to each distinct product.\\nDescription: Product (item) name. Nominal.\\nQuantity: The quantities of each product (item) per transaction. Numeric.\\t\\nInvoiceDate: Invoice Date and time. Numeric, the day and time when each transaction was generated.\\nUnitPrice: Unit price. Numeric, Product price per unit in sterling.\\nCustomerID: Customer number. Nominal, a 5-digit integral number uniquely assigned to each customer.\\nCountry: Country name. Nominal, the name of the country where each customer resides. \",\n",
              "  'citation': None}}"
            ]
          },
          "metadata": {},
          "execution_count": 3
        }
      ],
      "source": [
        "# metadata\n",
        "online_retail.metadata"
      ]
    }
  ],
  "metadata": {
    "colab": {
      "provenance": [],
      "authorship_tag": "ABX9TyPUjQJD0RqHAFxQxoS5z3eR",
      "include_colab_link": true
    },
    "kernelspec": {
      "display_name": "Python 3",
      "name": "python3"
    },
    "language_info": {
      "name": "python"
    }
  },
  "nbformat": 4,
  "nbformat_minor": 0
}